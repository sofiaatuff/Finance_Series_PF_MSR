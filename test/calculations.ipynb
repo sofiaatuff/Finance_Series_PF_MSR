{
 "cells": [
  {
   "cell_type": "code",
   "execution_count": 1,
   "metadata": {},
   "outputs": [],
   "source": [
    "import numpy as np\n",
    "import pandas as pd\n",
    "import matplotlib.pyplot as plt\n",
    "import seaborn as sns\n",
    "import itertools\n",
    "import os\n",
    "from pathlib import Path "
   ]
  },
  {
   "cell_type": "code",
   "execution_count": 6,
   "metadata": {},
   "outputs": [],
   "source": [
    "cwd = Path.cwd()"
   ]
  },
  {
   "cell_type": "code",
   "execution_count": 9,
   "metadata": {},
   "outputs": [],
   "source": [
    "data = pd.read_csv(\"../data/formatted_activity.csv\")\n",
    "df =data"
   ]
  },
  {
   "cell_type": "code",
   "execution_count": 10,
   "metadata": {},
   "outputs": [
    {
     "name": "stdout",
     "output_type": "stream",
     "text": [
      "Total amount: -1980.4399999999991\n"
     ]
    }
   ],
   "source": [
    "# we want to know how much was spent in total\n",
    "def calculate_total_amount(df, amount): \n",
    "    total_amount = df['Amount'].sum()\n",
    "    return total_amount\n",
    "\n",
    "total_amount = calculate_total_amount(df, 'Amount')\n",
    "\n",
    "# Print the total amount\n",
    "print(\"Total amount:\", total_amount)"
   ]
  },
  {
   "cell_type": "code",
   "execution_count": 11,
   "metadata": {},
   "outputs": [],
   "source": [
    "# lets split each card member's total\n",
    "condition = df['Card Member'] == \"ST\"\n",
    "st = df[condition]\n",
    "ct = df[-condition]"
   ]
  },
  {
   "cell_type": "code",
   "execution_count": 12,
   "metadata": {},
   "outputs": [
    {
     "name": "stdout",
     "output_type": "stream",
     "text": [
      "ST spent a total of:  982.02\n",
      "CT spent a total of:  -2962.4600000000005\n"
     ]
    }
   ],
   "source": [
    "# now we want to know how much each cardmember spent\n",
    "total_spent_st =st['Amount'].sum()\n",
    "print(\"ST spent a total of: \", total_spent_st)\n",
    "\n",
    "total_spent_ct = ct[\"Amount\"].sum()\n",
    "print(\"CT spent a total of: \", total_spent_ct)"
   ]
  },
  {
   "cell_type": "code",
   "execution_count": null,
   "metadata": {},
   "outputs": [],
   "source": []
  }
 ],
 "metadata": {
  "kernelspec": {
   "display_name": "base",
   "language": "python",
   "name": "python3"
  },
  "language_info": {
   "codemirror_mode": {
    "name": "ipython",
    "version": 3
   },
   "file_extension": ".py",
   "mimetype": "text/x-python",
   "name": "python",
   "nbconvert_exporter": "python",
   "pygments_lexer": "ipython3",
   "version": "3.9.12"
  },
  "orig_nbformat": 4
 },
 "nbformat": 4,
 "nbformat_minor": 2
}
