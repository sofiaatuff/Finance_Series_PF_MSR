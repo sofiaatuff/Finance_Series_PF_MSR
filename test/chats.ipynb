{
 "cells": [
  {
   "cell_type": "code",
   "execution_count": 1,
   "metadata": {},
   "outputs": [],
   "source": [
    "import numpy as np\n",
    "import pandas as pd\n",
    "import matplotlib.pyplot as plt\n",
    "import seaborn as sns\n",
    "import itertools\n",
    "import os\n",
    "from pathlib import Path \n"
   ]
  },
  {
   "cell_type": "code",
   "execution_count": 2,
   "metadata": {},
   "outputs": [],
   "source": [
    "cwd = Path.cwd()\n",
    "data = pd.read_csv(\"../data/formatted_activity.csv\")\n",
    "df =data"
   ]
  },
  {
   "cell_type": "code",
   "execution_count": 4,
   "metadata": {},
   "outputs": [
    {
     "ename": "NameError",
     "evalue": "name 'grouped_df' is not defined",
     "output_type": "error",
     "traceback": [
      "\u001b[0;31m---------------------------------------------------------------------------\u001b[0m",
      "\u001b[0;31mNameError\u001b[0m                                 Traceback (most recent call last)",
      "\u001b[1;32m/Users/STUFF/Library/CloudStorage/Dropbox/Mac (2)/Desktop/GitHub/Finance_STuff/personal_finance/PF_MSR/test/chats.ipynb Cell 3\u001b[0m in \u001b[0;36m<cell line: 2>\u001b[0;34m()\u001b[0m\n\u001b[1;32m      <a href='vscode-notebook-cell:/Users/STUFF/Library/CloudStorage/Dropbox/Mac%20%282%29/Desktop/GitHub/Finance_STuff/personal_finance/PF_MSR/test/chats.ipynb#W2sZmlsZQ%3D%3D?line=0'>1</a>\u001b[0m \u001b[39m# Iterate over the groups and create a new CSV file for each group\u001b[39;00m\n\u001b[0;32m----> <a href='vscode-notebook-cell:/Users/STUFF/Library/CloudStorage/Dropbox/Mac%20%282%29/Desktop/GitHub/Finance_STuff/personal_finance/PF_MSR/test/chats.ipynb#W2sZmlsZQ%3D%3D?line=1'>2</a>\u001b[0m \u001b[39mfor\u001b[39;00m group_name, group_df \u001b[39min\u001b[39;00m grouped_df:\n\u001b[1;32m      <a href='vscode-notebook-cell:/Users/STUFF/Library/CloudStorage/Dropbox/Mac%20%282%29/Desktop/GitHub/Finance_STuff/personal_finance/PF_MSR/test/chats.ipynb#W2sZmlsZQ%3D%3D?line=2'>3</a>\u001b[0m     \u001b[39m# Specify the file path and name for the new CSV file\u001b[39;00m\n\u001b[1;32m      <a href='vscode-notebook-cell:/Users/STUFF/Library/CloudStorage/Dropbox/Mac%20%282%29/Desktop/GitHub/Finance_STuff/personal_finance/PF_MSR/test/chats.ipynb#W2sZmlsZQ%3D%3D?line=3'>4</a>\u001b[0m     csv_file_path \u001b[39m=\u001b[39m \u001b[39mf\u001b[39m\u001b[39m'\u001b[39m\u001b[39m{\u001b[39;00mgroup_df\u001b[39m}\u001b[39;00m\u001b[39m.csv\u001b[39m\u001b[39m'\u001b[39m\n\u001b[1;32m      <a href='vscode-notebook-cell:/Users/STUFF/Library/CloudStorage/Dropbox/Mac%20%282%29/Desktop/GitHub/Finance_STuff/personal_finance/PF_MSR/test/chats.ipynb#W2sZmlsZQ%3D%3D?line=5'>6</a>\u001b[0m     \u001b[39m# Save the group DataFrame as a CSV file\u001b[39;00m\n",
      "\u001b[0;31mNameError\u001b[0m: name 'grouped_df' is not defined"
     ]
    }
   ],
   "source": [
    "# Iterate over the groups and create a new CSV file for each group\n",
    "for group_name, group_df in grouped_df:\n",
    "    # Specify the file path and name for the new CSV file\n",
    "    csv_file_path = f'{group_df}.csv'\n",
    "    \n",
    "    # Save the group DataFrame as a CSV file\n",
    "    group_df.to_csv(csv_file_path, index=False)\n",
    "    \n",
    "    print(f\"CSV file '{csv_file_path}' created.\")"
   ]
  },
  {
   "cell_type": "code",
   "execution_count": null,
   "metadata": {},
   "outputs": [],
   "source": []
  }
 ],
 "metadata": {
  "kernelspec": {
   "display_name": "base",
   "language": "python",
   "name": "python3"
  },
  "language_info": {
   "codemirror_mode": {
    "name": "ipython",
    "version": 3
   },
   "file_extension": ".py",
   "mimetype": "text/x-python",
   "name": "python",
   "nbconvert_exporter": "python",
   "pygments_lexer": "ipython3",
   "version": "3.9.12"
  },
  "orig_nbformat": 4
 },
 "nbformat": 4,
 "nbformat_minor": 2
}
